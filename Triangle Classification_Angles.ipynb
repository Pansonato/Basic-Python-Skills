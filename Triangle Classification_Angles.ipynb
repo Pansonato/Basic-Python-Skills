{
  "nbformat": 4,
  "nbformat_minor": 0,
  "metadata": {
    "colab": {
      "name": "Atividade_15.ipynb",
      "provenance": [],
      "collapsed_sections": []
    },
    "kernelspec": {
      "name": "python3",
      "display_name": "Python 3"
    },
    "language_info": {
      "name": "python"
    }
  },
  "cells": [
    {
      "cell_type": "code",
      "execution_count": null,
      "metadata": {
        "colab": {
          "base_uri": "https://localhost:8080/"
        },
        "id": "SQUwBBOLNKdt",
        "outputId": "4319632b-bdf7-4136-f13e-d5a02d72e81a"
      },
      "outputs": [
        {
          "output_type": "stream",
          "name": "stdout",
          "text": [
            "O triângulo é retângulo.\n"
          ]
        }
      ],
      "source": [
        "#@title Classificação de triângulos pelos ângulos { run: \"auto\", vertical-output: true }\n",
        "angulo_1_em_graus =  90#@param {type:\"number\"}\n",
        "angulo_2_em_graus =  45#@param {type:\"number\"}\n",
        "angulo_3_em_graus =  45#@param {type:\"number\"}\n",
        "\n",
        "if angulo_1_em_graus + angulo_2_em_graus + angulo_3_em_graus != 180:\n",
        "  print(\"Esses três valores não podem corresponder aos ângulos de um triângulo\")\n",
        "\n",
        "elif angulo_1_em_graus == 90 or angulo_2_em_graus == 90 or angulo_3_em_graus == 90:\n",
        "  print(\"O triângulo é retângulo.\")\n",
        "elif angulo_1_em_graus < 90 and angulo_2_em_graus < 90 and angulo_3_em_graus < 90:\n",
        "  print(\"O triângulo é acutângulo.\")\n",
        "elif angulo_1_em_graus > 90 or angulo_2_em_graus > 90 or angulo_3_em_graus > 90:\n",
        "  print(\"O triângulo é obtusângulo.\")"
      ]
    }
  ]
}