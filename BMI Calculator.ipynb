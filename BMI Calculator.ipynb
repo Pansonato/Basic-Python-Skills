{
  "nbformat": 4,
  "nbformat_minor": 0,
  "metadata": {
    "colab": {
      "name": "Atividade 13",
      "provenance": []
    },
    "kernelspec": {
      "name": "python3",
      "display_name": "Python 3"
    },
    "language_info": {
      "name": "python"
    }
  },
  "cells": [
    {
      "cell_type": "code",
      "execution_count": 114,
      "metadata": {
        "colab": {
          "base_uri": "https://localhost:8080/"
        },
        "cellView": "form",
        "id": "c7MJtf9nROLi",
        "outputId": "b7e06067-7cc0-4979-f011-c1ff15d83d6f"
      },
      "outputs": [
        {
          "output_type": "stream",
          "name": "stdout",
          "text": [
            "Seu IMC é 35.90848466194727, e você está com sobrepeso, talvez seja melhor passar com um especialista.\n"
          ]
        }
      ],
      "source": [
        "#@title Calculadora de IMC { run: \"auto\" }\n",
        "Peso =  105#@param {type:\"number\"}\n",
        "Altura = 1.71 #@param {type:\"number\"}\n",
        "imc = Peso/(Altura**2)\n",
        "if imc < 18.5 :\n",
        "  print(\"Seu IMC é \" + format(imc) + \", e você está mais magra ou magro que o recomendado, talvez seja melhor passar com um especialista.\")\n",
        "elif imc >= 18.5 and imc < 25:\n",
        "  print(\"Seu IMC é \" + format(imc) + \", e você está saudável e dentro da média esperada para sua altura.\")\n",
        "elif imc > 25:\n",
        "  print(\"Seu IMC é \" + format(imc) + \", e você está com sobrepeso, talvez seja melhor passar com um especialista.\")"
      ]
    }
  ]
}