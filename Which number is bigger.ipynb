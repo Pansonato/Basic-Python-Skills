{
  "nbformat": 4,
  "nbformat_minor": 0,
  "metadata": {
    "colab": {
      "name": "Atividade_17.ipynb",
      "provenance": []
    },
    "kernelspec": {
      "name": "python3",
      "display_name": "Python 3"
    },
    "language_info": {
      "name": "python"
    }
  },
  "cells": [
    {
      "cell_type": "code",
      "execution_count": 51,
      "metadata": {
        "colab": {
          "base_uri": "https://localhost:8080/"
        },
        "cellView": "form",
        "id": "YFWOOnZjLBAF",
        "outputId": "beeb8bac-64fc-4978-fde6-618cdc5bfd1d"
      },
      "outputs": [
        {
          "output_type": "stream",
          "name": "stdout",
          "text": [
            "O maior dos três números é 9 e o menor é 3.\n"
          ]
        }
      ],
      "source": [
        "#@title Texto de título padrão { run: \"auto\", vertical-output: true }\n",
        "numero1 =  8#@param {type:\"number\"}\n",
        "numero2 =  9#@param {type:\"number\"}\n",
        "numero3 =  3#@param {type:\"number\"}\n",
        "comparacao1 = numero1 > numero2\n",
        "comparacao2 = numero1 > numero3\n",
        "comparacao3 = numero2 > numero3\n",
        "comparacao4 = numero2 > numero1\n",
        "comparacao5 = numero3 > numero2\n",
        "comparacao6 = numero3 > numero1\n",
        "\n",
        "if comparacao1 and comparacao2 and comparacao5:\n",
        "  print(\"O maior dos três números é \" + format(numero1) + \" e o menor é \" + format(numero2) + \".\")\n",
        "elif comparacao1 and comparacao2 and comparacao3:\n",
        "  print(\"O maior dos três números é \" + format(numero1) + \" e o menor é \" + format(numero3) + \".\")\n",
        "elif comparacao4 and comparacao3 and comparacao2:\n",
        "  print(\"O maior dos três números é \" + format(numero2) + \" e o menor é \" + format(numero3) + \".\")\n",
        "elif comparacao4 and comparacao3 and comparacao6:\n",
        "  print(\"O maior dos três números é \" + format(numero2) + \" e o menor é \" + format(numero1) + \".\")\n",
        "elif comparacao5 and comparacao6 and comparacao1:\n",
        "  print(\"O maior dos três números é \" + format(numero3) + \" e o menor é \" + format(numero2) + \".\")\n",
        "elif comparacao5 and comparacao6 and comparacao4:\n",
        "  print(\"O maior dos três números é \" + format(numero3) + \" e o menor é \" + format(numero1) + \".\")"
      ]
    }
  ]
}