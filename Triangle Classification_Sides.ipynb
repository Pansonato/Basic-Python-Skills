{
  "nbformat": 4,
  "nbformat_minor": 0,
  "metadata": {
    "colab": {
      "name": "Atividade_14.ipynb",
      "provenance": [],
      "collapsed_sections": []
    },
    "kernelspec": {
      "name": "python3",
      "display_name": "Python 3"
    },
    "language_info": {
      "name": "python"
    }
  },
  "cells": [
    {
      "cell_type": "code",
      "execution_count": 1,
      "metadata": {
        "colab": {
          "base_uri": "https://localhost:8080/"
        },
        "id": "f3t63tPr9leK",
        "outputId": "d56c7c11-af87-4aac-e9b0-0eacfa9104c4"
      },
      "outputs": [
        {
          "output_type": "stream",
          "name": "stdout",
          "text": [
            "Esses três valores não podem corresponder aos lados de um triângulo\n"
          ]
        }
      ],
      "source": [
        "#@title Classificação de triângulos pelos lados { run: \"auto\", vertical-output: true }\n",
        "comprimento_do_lado_1 =  7#@param {type:\"number\"}\n",
        "comprimento_do_lado_2 =  8#@param {type:\"number\"}\n",
        "comprimento_do_lado_3 =  56#@param {type:\"number\"}\n",
        "\n",
        "if comprimento_do_lado_1 + comprimento_do_lado_2 < comprimento_do_lado_3:\n",
        "  print(\"Esses três valores não podem corresponder aos lados de um triângulo\")\n",
        "elif comprimento_do_lado_1 + comprimento_do_lado_3 < comprimento_do_lado_2:\n",
        "  print(\"Esses três valores não podem corresponder aos lados de um triângulo\")\n",
        "elif comprimento_do_lado_2 + comprimento_do_lado_3 < comprimento_do_lado_1:\n",
        "  print(\"Esses três valores não podem corresponder aos lados de um triângulo\")\n",
        "\n",
        "elif comprimento_do_lado_1 == comprimento_do_lado_2 == comprimento_do_lado_3:\n",
        "  print(\"O triângulo é equilátero.\")\n",
        "\n",
        "elif comprimento_do_lado_1 == comprimento_do_lado_2 != comprimento_do_lado_3:\n",
        "  print(\"O triângulo é isósceles.\")\n",
        "elif comprimento_do_lado_1 == comprimento_do_lado_3 != comprimento_do_lado_2:\n",
        "  print(\"O triângulo é isósceles.\")\n",
        "elif comprimento_do_lado_2 == comprimento_do_lado_3 != comprimento_do_lado_1:\n",
        "  print(\"O triângulo é isósceles.\")\n",
        "\n",
        "elif comprimento_do_lado_1 != comprimento_do_lado_2 != comprimento_do_lado_3:\n",
        "  print(\"O triângulo é escaleno.\")"
      ]
    }
  ]
}