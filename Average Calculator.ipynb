{
  "nbformat": 4,
  "nbformat_minor": 0,
  "metadata": {
    "colab": {
      "name": "A11",
      "provenance": [],
      "collapsed_sections": []
    },
    "kernelspec": {
      "name": "python3",
      "display_name": "Python 3"
    },
    "language_info": {
      "name": "python"
    }
  },
  "cells": [
    {
      "cell_type": "code",
      "execution_count": 1,
      "metadata": {
        "colab": {
          "base_uri": "https://localhost:8080/"
        },
        "id": "ywMhBeQr9wRP",
        "outputId": "20c4874b-2563-4adf-b176-dfeb210ea13a"
      },
      "outputs": [
        {
          "output_type": "stream",
          "name": "stdout",
          "text": [
            "Média final: 3.33\n",
            "Você foi reprovado.\n"
          ]
        }
      ],
      "source": [
        "#@title Média Final { run: \"auto\", vertical-output: true }\n",
        "nota1 =  3#@param {type:\"number\"}\n",
        "nota2 =  2#@param {type:\"number\"}\n",
        "nota3 = 5 #@param {type:\"number\"}\n",
        "soma = nota1 + nota2 + nota3\n",
        "media = soma/3\n",
        "print(\"Média final:\" , \"%.2f\" % media)\n",
        "if media >= 6:\n",
        "  print(\"Você foi aprovado.\")\n",
        "elif media < 4:\n",
        "  print(\"Você foi reprovado.\")\n",
        "elif media >= 4 and media < 6:\n",
        "  print(\"Você está de final.\")"
      ]
    }
  ]
}