{
  "nbformat": 4,
  "nbformat_minor": 0,
  "metadata": {
    "colab": {
      "name": "Atividade 12.ipynb",
      "provenance": []
    },
    "kernelspec": {
      "name": "python3",
      "display_name": "Python 3"
    },
    "language_info": {
      "name": "python"
    }
  },
  "cells": [
    {
      "cell_type": "code",
      "execution_count": null,
      "metadata": {
        "colab": {
          "base_uri": "https://localhost:8080/"
        },
        "cellView": "form",
        "id": "i-lJcBFwo7uT",
        "outputId": "83612f0f-270c-4eeb-a8e9-21bf04e723ab"
      },
      "outputs": [
        {
          "output_type": "stream",
          "name": "stdout",
          "text": [
            "19 de fevereiro a 20 de março\n",
            "A maioria das pessoas desse signo possui imensa dificuldade em se ajustar\n",
            "no mundo. Costuma colocar as questões humanas à frente de tudo, por isso tem\n",
            "imensa dificuldade em se adaptar ao sistema.\n",
            "As pessoas de Peixes são intensas, amorosas, bondosas, generosas, emotivas,\n",
            "dependentes, criam vínculos facilmente, empáticas e costumam mergulhar fundo\n",
            "em seu mundo emocional, desencadeando, frequentemente, algum sofrimento.\n"
          ]
        }
      ],
      "source": [
        "#@title Qual é o seu signo astrológico? { run: \"auto\", vertical-output: true }\n",
        "Signo =  \"Peixes\"#@param [\"Áries\", \"Touro\", \"Gêmeos\", \"Câncer\", \"Leão\", \"Virgem\", \"Libra\", \"Escorpião\", \"Sagitário\", \"Capricórnio\", \"Aquário\", \"Peixes\" ]\n",
        "\n",
        "if Signo == \"Áries\":\n",
        "  print(\"21 de março a 20 de abril\" + \"\\nÁries é impaciente, intolerante e extremamente impulsivo, primeiro atira,\\ndepois pergunta o que aconteceu. As pessoas desse signo não costumam gostar\\nde perder uma batalha, seja ela na vida prática ou emocional.\\nSão pessoas individualistas e egocêntricas, gostam de dar a última palavra\\ne de serem as primeiras, as pioneiras em todos os assuntos.\")\n",
        "elif Signo == \"Touro\":\n",
        "  print(\"1 de abril a 20 de maio\" + \"\\nTouro é amoroso, afetuoso, dependente, acomodado, apaixonado e intenso.\\nTaurinos e taurinas buscam por um trabalho seguro e morrem de medo de\\naventuras. Gostam de sentir os pés bem firmes no chão e não costumam dar\\npassos muito largos, especialmente em questões que envolvem dinheiro\")\n",
        "elif Signo == \"Gêmeos\":\n",
        "  print(\"21 de maio a 20 de junho\" + \"\\nGeminianos e geminianas possuem como característica a rapidez das ideias e a\\nfacilidade de comunicar-se, seja com quem for. Ágeis, rápidos, acelerados,\\nansiosos e impulsivos, são comumente encontrados no mundo dos esportes,\\nnas agências de publicidade, no jornalismo e nas vendas.\")\n",
        "elif Signo == \"Câncer\":\n",
        "  print(\"21 de junho a 22 de julho\" + \"\\nExtremamente sensíveis e absolutamente emocionais, as pessoas desse signo\\nsabem construir vínculos afetivos profundos e duradouros, pois precisam\\nsentir-se emocionalmente seguras em seus relacionamentos.\\nAs pessoas desse signo costumam ser fortes, apesar de mostrarem uma certa\\nfragilidade, são ligadas à segurança que a estrutura familiar traz a elas e,\\nmuitas vezes, extremamente ligadas ao trabalho e à carreira.\")\n",
        "elif Signo == \"Leão\":\n",
        "  print(\"23 de julho a 22 de agosto\" + \"\\nLeoninos e leoninas não vivem sem uma boa paixão, precisam sentir o calor no\\ncoração. Podem ser arrogantes, altivos, egocêntricos e adoram um aplauso.\\nNada discretos, costumam chamar a atenção de todos à sua volta, seja por\\nconta de suas colocações firmes e seguras, de sua altivez ou de sua maneira\\nde se vestir. São entusiasmados, alegres, festivos e festeiros, indiscretos,\\naltivos, nobres e donos da verdade.\")\n",
        "elif Signo == \"Virgem\":\n",
        "  print(\"23 de agosto a 22 de setembro\" + \"\\nApreciam a segurança que o dinheiro traz e gostam de ter ele.\\nNo entanto, possuem um lado aventureiro e amam os esportes radicais na\\nnatureza, como o alpinismo, o montanhismo, as trilhas em meio à natureza,\\no paraquedismo, o bungee jumping, o ciclismo de montanha. o motocross e todo\\nesporte que envolve a natureza e um pouco de perigo. Outra característica\\ncomum nas pessoas desse signo é o amor ao conhecimento.\\nÉ um signo que cultiva a humildade, o trabalho do dia a dia, o serviço,\\na construção da vida tijolo por tijolo. São simples e amam cultivar\\na simplicidade.\")\n",
        "elif Signo == \"Libra\":\n",
        "  print(\"23 de setembro a 22 de outubro\" + \"\\nLibra busca o equilíbrio e a harmonia em tudo o que toca, mas isso não quer\\ndizer que as pessoas desse signo são equilibradas; a balança, símbolo deste\\nsigno, sempre pende para um lado e o libriano ou a libriana sempre\\ntenta equilibrá-la. O maior problema das pessoas desse signo é a aceitação,\\npor isso a dificuldade em fazer escolhas, em tomar partido, em pender para\\num dos lados da balança. Librianos e librianas, são gentis, amáveis, odeiam\\nbrigas e mal-entendidos, mas quando perdem a paciência, tornam-se agressivos\\ne até mesmo violentos\")\n",
        "elif Signo == \"Escorpião\":\n",
        "  print(\"23 de outubro a 21 de novembro\" + \"\\nNão existe uma pessoa desse signo que seja superficial, todos trazem em si o\\ncontato com as profundezas de seu ser. Sensuais, mas pouco compreendidos,\\nbuscam o sexo perfeito, a união de almas e não somente orgasmos.\\nAs pessoas desse signo são desconfiadas, misteriosas, reservadas, discretas,\\nemotivas, afetuosas e conhecidas por seu ciúme, possessividade e\\nnecessidade de vingança quando seu orgulho é ferido. São trabalhadores,\\nligados a dinheiro, leais, fiéis e buscam relacionamentos profundos,\\nsignificativos, emocionalmente estáveis, apesar da dificuldade e duradouros.\")\n",
        "elif Signo == \"Sagitário\":\n",
        "  print(\"22 de novembro a 21 de dezembro\" + \"\\nSagitarianos costumam ser exagerados, excêntricos, arrogantes,\\nindiscretos, inconvenientes com suas verdades assertivas, aventureiros e\\namantes do conhecimento. Altivos e agressivos, são representados pelo\\nCentauro, o ser mitológico que é metade homem e metade cavalo. A metade\\nhumana está voltada para os temas superiores, que envolvem o Universo e a\\norigem da vida e a parte animal, com a vida mundana e prática.\\nPortanto, Sagitário tem a mente voltada para o alto, para o Universo e os\\npés bem fincados no chão.\")\n",
        "elif Signo == \"Capricórnio\":\n",
        "  print(\"22 de dezembro a 20 de janeiro\" + \"\\nAs pessoas desse signo são estáveis, buscam por um lugar ao Sol e possuem\\nenorme determinação e capacidade de construir a vida tijolo por tijolo.\\nCapricornianos e capricornianas são ambiciosos, materialistas, amam o poder\\ne o dinheiro, buscam a cada dia subir um degrau a mais em seu caminho ao\\ntopo da montanha da vida. Constroem estruturas, na vida social e na pessoal.\\nSão ligados ao passado, à família, ao casamento tradicional, ao trabalho,\\nà carreira e a tudo o que possa lhes trazer estruturas firmes e confiáveis.\")\n",
        "elif Signo == \"Aquário\":\n",
        "  print(\"21 de janeiro a 18 de fevereiro\" + \"\\nO aquariano ou aquariana típico deve estar à frente de seu tempo nas ideias,\\nna maneira que se veste e que vive sua vida. Com uma inteligência acima da\\nmédia, as pessoas desse signo costumam ser extremamente estudiosas\\ne curiosas, o que as leva a entender um pouco sobre todos os assuntos.\\nAquarianos são sociáveis, interessados, inteligentes, agitados, ansiosos,\\nimpulsivos e emocionalmente frios. Odeiam manifestações emocionais intensas.\\nNão sabem, de fato, como nadar nas águas das emoções. As pessoas desse signo\\nsão agitadas e não costumam fazer vínculos com muita facilidade e por isso\\ncostumam fugir dos compromissos nos relacionamentos.\")\n",
        "elif Signo == \"Peixes\":\n",
        "  print(\"19 de fevereiro a 20 de março\" + \"\\nA maioria das pessoas desse signo possui imensa dificuldade em se ajustar\\nno mundo. Costuma colocar as questões humanas à frente de tudo, por isso tem\\nimensa dificuldade em se adaptar ao sistema.\\nAs pessoas de Peixes são intensas, amorosas, bondosas, generosas, emotivas,\\ndependentes, criam vínculos facilmente, empáticas e costumam mergulhar fundo\\nem seu mundo emocional, desencadeando, frequentemente, algum sofrimento.\")"
      ]
    },
    {
      "cell_type": "markdown",
      "source": [
        "Todas as informações desta atividade foram pegas no texto da autora Eunice Ferrari disponível no link a seguir: [Clique aqui](https://www.band.uol.com.br/entretenimento/quais-as-caracteristicas-de-cada-signo-do-zodiaco-16458423)"
      ],
      "metadata": {
        "id": "FeLS4tyo690v"
      }
    }
  ]
}