{
  "nbformat": 4,
  "nbformat_minor": 0,
  "metadata": {
    "colab": {
      "name": "Atividade_16.ipynb",
      "provenance": []
    },
    "kernelspec": {
      "name": "python3",
      "display_name": "Python 3"
    },
    "language_info": {
      "name": "python"
    }
  },
  "cells": [
    {
      "cell_type": "code",
      "execution_count": 8,
      "metadata": {
        "id": "jO9kRBrq7K1c",
        "colab": {
          "base_uri": "https://localhost:8080/"
        },
        "outputId": "c1fd7cc8-a611-4a0e-93f5-16188b8a6cdf"
      },
      "outputs": [
        {
          "output_type": "stream",
          "name": "stdout",
          "text": [
            "Sim.\n"
          ]
        }
      ],
      "source": [
        "#@title É ou não múltiplo de três? { run: \"auto\" }\n",
        "numero =  3#@param {type:\"integer\"}\n",
        "multiplo3 = numero % 3  \n",
        "if multiplo3 == 0:\n",
        "  print(\"Sim.\")\n",
        "elif multiplo3 != 0:\n",
        "  print(\"Não.\")"
      ]
    }
  ]
}